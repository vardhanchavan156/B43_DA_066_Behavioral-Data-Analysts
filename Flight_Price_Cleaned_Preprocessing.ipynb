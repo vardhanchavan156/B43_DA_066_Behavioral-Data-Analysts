{
 "cells": [
  {
   "cell_type": "markdown",
   "metadata": {},
   "source": [
    "### Cleaning & Preprocessing"
   ]
  },
  {
   "cell_type": "code",
   "execution_count": 1,
   "metadata": {},
   "outputs": [],
   "source": [
    "import pandas as pd \n",
    "import re\n",
    "import numpy as np \n",
    "import pickle \n",
    "from sklearn.model_selection import train_test_split\n",
    "from sklearn.preprocessing import OneHotEncoder\n",
    "from sklearn.preprocessing import LabelEncoder"
   ]
  },
  {
   "cell_type": "code",
   "execution_count": 2,
   "metadata": {},
   "outputs": [
    {
     "data": {
      "text/html": [
       "<div>\n",
       "<style scoped>\n",
       "    .dataframe tbody tr th:only-of-type {\n",
       "        vertical-align: middle;\n",
       "    }\n",
       "\n",
       "    .dataframe tbody tr th {\n",
       "        vertical-align: top;\n",
       "    }\n",
       "\n",
       "    .dataframe thead th {\n",
       "        text-align: right;\n",
       "    }\n",
       "</style>\n",
       "<table border=\"1\" class=\"dataframe\">\n",
       "  <thead>\n",
       "    <tr style=\"text-align: right;\">\n",
       "      <th></th>\n",
       "      <th>flight date</th>\n",
       "      <th>airline</th>\n",
       "      <th>flight_num</th>\n",
       "      <th>class</th>\n",
       "      <th>from</th>\n",
       "      <th>dep_time</th>\n",
       "      <th>to</th>\n",
       "      <th>arr_time</th>\n",
       "      <th>duration</th>\n",
       "      <th>price</th>\n",
       "      <th>stops</th>\n",
       "      <th>Unnamed: 11</th>\n",
       "      <th>Unnamed: 12</th>\n",
       "    </tr>\n",
       "  </thead>\n",
       "  <tbody>\n",
       "    <tr>\n",
       "      <th>0</th>\n",
       "      <td>26-06-2023</td>\n",
       "      <td>SpiceJet</td>\n",
       "      <td>SG-8709</td>\n",
       "      <td>economy</td>\n",
       "      <td>Delhi</td>\n",
       "      <td>18:55</td>\n",
       "      <td>Mumbai</td>\n",
       "      <td>21:05</td>\n",
       "      <td>02h 10m</td>\n",
       "      <td>6,013</td>\n",
       "      <td>non-stop</td>\n",
       "      <td>NaN</td>\n",
       "      <td>NaN</td>\n",
       "    </tr>\n",
       "    <tr>\n",
       "      <th>1</th>\n",
       "      <td>26-06-2023</td>\n",
       "      <td>SpiceJet</td>\n",
       "      <td>SG-8157</td>\n",
       "      <td>economy</td>\n",
       "      <td>Delhi</td>\n",
       "      <td>06:20</td>\n",
       "      <td>Mumbai</td>\n",
       "      <td>08:40</td>\n",
       "      <td>02h 20m</td>\n",
       "      <td>6,013</td>\n",
       "      <td>non-stop</td>\n",
       "      <td>NaN</td>\n",
       "      <td>NaN</td>\n",
       "    </tr>\n",
       "    <tr>\n",
       "      <th>2</th>\n",
       "      <td>26-06-2023</td>\n",
       "      <td>AirAsia</td>\n",
       "      <td>I5-764</td>\n",
       "      <td>economy</td>\n",
       "      <td>Delhi</td>\n",
       "      <td>04:25</td>\n",
       "      <td>Mumbai</td>\n",
       "      <td>06:35</td>\n",
       "      <td>02h 10m</td>\n",
       "      <td>6,016</td>\n",
       "      <td>non-stop</td>\n",
       "      <td>NaN</td>\n",
       "      <td>NaN</td>\n",
       "    </tr>\n",
       "    <tr>\n",
       "      <th>3</th>\n",
       "      <td>26-06-2023</td>\n",
       "      <td>Vistara</td>\n",
       "      <td>UK-995</td>\n",
       "      <td>economy</td>\n",
       "      <td>Delhi</td>\n",
       "      <td>10:20</td>\n",
       "      <td>Mumbai</td>\n",
       "      <td>12:35</td>\n",
       "      <td>02h 15m</td>\n",
       "      <td>6,015</td>\n",
       "      <td>non-stop</td>\n",
       "      <td>NaN</td>\n",
       "      <td>NaN</td>\n",
       "    </tr>\n",
       "    <tr>\n",
       "      <th>4</th>\n",
       "      <td>26-06-2023</td>\n",
       "      <td>Vistara</td>\n",
       "      <td>UK-963</td>\n",
       "      <td>economy</td>\n",
       "      <td>Delhi</td>\n",
       "      <td>08:50</td>\n",
       "      <td>Mumbai</td>\n",
       "      <td>11:10</td>\n",
       "      <td>02h 20m</td>\n",
       "      <td>6,015</td>\n",
       "      <td>non-stop</td>\n",
       "      <td>NaN</td>\n",
       "      <td>NaN</td>\n",
       "    </tr>\n",
       "  </tbody>\n",
       "</table>\n",
       "</div>"
      ],
      "text/plain": [
       "  flight date   airline flight_num    class   from dep_time      to arr_time  \\\n",
       "0  26-06-2023  SpiceJet    SG-8709  economy  Delhi    18:55  Mumbai    21:05   \n",
       "1  26-06-2023  SpiceJet    SG-8157  economy  Delhi    06:20  Mumbai    08:40   \n",
       "2  26-06-2023   AirAsia     I5-764  economy  Delhi    04:25  Mumbai    06:35   \n",
       "3  26-06-2023   Vistara     UK-995  economy  Delhi    10:20  Mumbai    12:35   \n",
       "4  26-06-2023   Vistara     UK-963  economy  Delhi    08:50  Mumbai    11:10   \n",
       "\n",
       "  duration  price     stops  Unnamed: 11  Unnamed: 12  \n",
       "0  02h 10m  6,013  non-stop          NaN          NaN  \n",
       "1  02h 20m  6,013  non-stop          NaN          NaN  \n",
       "2  02h 10m  6,016  non-stop          NaN          NaN  \n",
       "3  02h 15m  6,015  non-stop          NaN          NaN  \n",
       "4  02h 20m  6,015  non-stop          NaN          NaN  "
      ]
     },
     "execution_count": 2,
     "metadata": {},
     "output_type": "execute_result"
    }
   ],
   "source": [
    "df = pd.read_csv(\"goibibo_flights_data_predictions.csv\")\n",
    "df.head()"
   ]
  },
  {
   "cell_type": "code",
   "execution_count": 4,
   "metadata": {},
   "outputs": [
    {
     "data": {
      "text/plain": [
       "Index(['flight date', 'airline', 'flight_num', 'class', 'from', 'dep_time',\n",
       "       'to', 'arr_time', 'duration', 'price', 'stops', 'Unnamed: 11',\n",
       "       'Unnamed: 12'],\n",
       "      dtype='object')"
      ]
     },
     "execution_count": 4,
     "metadata": {},
     "output_type": "execute_result"
    }
   ],
   "source": [
    "df.columns "
   ]
  },
  {
   "cell_type": "code",
   "execution_count": 5,
   "metadata": {},
   "outputs": [
    {
     "name": "stdout",
     "output_type": "stream",
     "text": [
      "Column: Unnamed: 11 dropped successfully.\n",
      "Column: Unnamed: 12 dropped successfully.\n"
     ]
    },
    {
     "data": {
      "text/html": [
       "<div>\n",
       "<style scoped>\n",
       "    .dataframe tbody tr th:only-of-type {\n",
       "        vertical-align: middle;\n",
       "    }\n",
       "\n",
       "    .dataframe tbody tr th {\n",
       "        vertical-align: top;\n",
       "    }\n",
       "\n",
       "    .dataframe thead th {\n",
       "        text-align: right;\n",
       "    }\n",
       "</style>\n",
       "<table border=\"1\" class=\"dataframe\">\n",
       "  <thead>\n",
       "    <tr style=\"text-align: right;\">\n",
       "      <th></th>\n",
       "      <th>flight date</th>\n",
       "      <th>airline</th>\n",
       "      <th>flight_num</th>\n",
       "      <th>class</th>\n",
       "      <th>from</th>\n",
       "      <th>dep_time</th>\n",
       "      <th>to</th>\n",
       "      <th>arr_time</th>\n",
       "      <th>duration</th>\n",
       "      <th>price</th>\n",
       "      <th>stops</th>\n",
       "    </tr>\n",
       "  </thead>\n",
       "  <tbody>\n",
       "    <tr>\n",
       "      <th>0</th>\n",
       "      <td>26-06-2023</td>\n",
       "      <td>SpiceJet</td>\n",
       "      <td>SG-8709</td>\n",
       "      <td>economy</td>\n",
       "      <td>Delhi</td>\n",
       "      <td>18:55</td>\n",
       "      <td>Mumbai</td>\n",
       "      <td>21:05</td>\n",
       "      <td>02h 10m</td>\n",
       "      <td>6,013</td>\n",
       "      <td>non-stop</td>\n",
       "    </tr>\n",
       "    <tr>\n",
       "      <th>1</th>\n",
       "      <td>26-06-2023</td>\n",
       "      <td>SpiceJet</td>\n",
       "      <td>SG-8157</td>\n",
       "      <td>economy</td>\n",
       "      <td>Delhi</td>\n",
       "      <td>06:20</td>\n",
       "      <td>Mumbai</td>\n",
       "      <td>08:40</td>\n",
       "      <td>02h 20m</td>\n",
       "      <td>6,013</td>\n",
       "      <td>non-stop</td>\n",
       "    </tr>\n",
       "    <tr>\n",
       "      <th>2</th>\n",
       "      <td>26-06-2023</td>\n",
       "      <td>AirAsia</td>\n",
       "      <td>I5-764</td>\n",
       "      <td>economy</td>\n",
       "      <td>Delhi</td>\n",
       "      <td>04:25</td>\n",
       "      <td>Mumbai</td>\n",
       "      <td>06:35</td>\n",
       "      <td>02h 10m</td>\n",
       "      <td>6,016</td>\n",
       "      <td>non-stop</td>\n",
       "    </tr>\n",
       "    <tr>\n",
       "      <th>3</th>\n",
       "      <td>26-06-2023</td>\n",
       "      <td>Vistara</td>\n",
       "      <td>UK-995</td>\n",
       "      <td>economy</td>\n",
       "      <td>Delhi</td>\n",
       "      <td>10:20</td>\n",
       "      <td>Mumbai</td>\n",
       "      <td>12:35</td>\n",
       "      <td>02h 15m</td>\n",
       "      <td>6,015</td>\n",
       "      <td>non-stop</td>\n",
       "    </tr>\n",
       "    <tr>\n",
       "      <th>4</th>\n",
       "      <td>26-06-2023</td>\n",
       "      <td>Vistara</td>\n",
       "      <td>UK-963</td>\n",
       "      <td>economy</td>\n",
       "      <td>Delhi</td>\n",
       "      <td>08:50</td>\n",
       "      <td>Mumbai</td>\n",
       "      <td>11:10</td>\n",
       "      <td>02h 20m</td>\n",
       "      <td>6,015</td>\n",
       "      <td>non-stop</td>\n",
       "    </tr>\n",
       "    <tr>\n",
       "      <th>...</th>\n",
       "      <td>...</td>\n",
       "      <td>...</td>\n",
       "      <td>...</td>\n",
       "      <td>...</td>\n",
       "      <td>...</td>\n",
       "      <td>...</td>\n",
       "      <td>...</td>\n",
       "      <td>...</td>\n",
       "      <td>...</td>\n",
       "      <td>...</td>\n",
       "      <td>...</td>\n",
       "    </tr>\n",
       "    <tr>\n",
       "      <th>300256</th>\n",
       "      <td>13-08-2023</td>\n",
       "      <td>Vistara</td>\n",
       "      <td>UK-822</td>\n",
       "      <td>business</td>\n",
       "      <td>Chennai</td>\n",
       "      <td>09:45</td>\n",
       "      <td>Hyderabad</td>\n",
       "      <td>19:50</td>\n",
       "      <td>10h 05m</td>\n",
       "      <td>70,304</td>\n",
       "      <td>1-stop</td>\n",
       "    </tr>\n",
       "    <tr>\n",
       "      <th>300257</th>\n",
       "      <td>13-08-2023</td>\n",
       "      <td>Vistara</td>\n",
       "      <td>UK-826</td>\n",
       "      <td>business</td>\n",
       "      <td>Chennai</td>\n",
       "      <td>12:30</td>\n",
       "      <td>Hyderabad</td>\n",
       "      <td>22:55</td>\n",
       "      <td>10h 25m</td>\n",
       "      <td>78,262</td>\n",
       "      <td>1-stop</td>\n",
       "    </tr>\n",
       "    <tr>\n",
       "      <th>300258</th>\n",
       "      <td>13-08-2023</td>\n",
       "      <td>Vistara</td>\n",
       "      <td>UK-832</td>\n",
       "      <td>business</td>\n",
       "      <td>Chennai</td>\n",
       "      <td>07:05</td>\n",
       "      <td>Hyderabad</td>\n",
       "      <td>20:55</td>\n",
       "      <td>13h 50m</td>\n",
       "      <td>80,285</td>\n",
       "      <td>1-stop</td>\n",
       "    </tr>\n",
       "    <tr>\n",
       "      <th>300259</th>\n",
       "      <td>13-08-2023</td>\n",
       "      <td>Vistara</td>\n",
       "      <td>UK-828</td>\n",
       "      <td>business</td>\n",
       "      <td>Chennai</td>\n",
       "      <td>07:00</td>\n",
       "      <td>Hyderabad</td>\n",
       "      <td>17:00</td>\n",
       "      <td>10h 00m</td>\n",
       "      <td>82,809</td>\n",
       "      <td>1-stop</td>\n",
       "    </tr>\n",
       "    <tr>\n",
       "      <th>300260</th>\n",
       "      <td>13-08-2023</td>\n",
       "      <td>Vistara</td>\n",
       "      <td>UK-822</td>\n",
       "      <td>business</td>\n",
       "      <td>Chennai</td>\n",
       "      <td>09:45</td>\n",
       "      <td>Hyderabad</td>\n",
       "      <td>19:50</td>\n",
       "      <td>10h 05m</td>\n",
       "      <td>82,809</td>\n",
       "      <td>1-stop</td>\n",
       "    </tr>\n",
       "  </tbody>\n",
       "</table>\n",
       "<p>300261 rows × 11 columns</p>\n",
       "</div>"
      ],
      "text/plain": [
       "       flight date   airline flight_num     class     from dep_time  \\\n",
       "0       26-06-2023  SpiceJet    SG-8709   economy    Delhi    18:55   \n",
       "1       26-06-2023  SpiceJet    SG-8157   economy    Delhi    06:20   \n",
       "2       26-06-2023   AirAsia     I5-764   economy    Delhi    04:25   \n",
       "3       26-06-2023   Vistara     UK-995   economy    Delhi    10:20   \n",
       "4       26-06-2023   Vistara     UK-963   economy    Delhi    08:50   \n",
       "...            ...       ...        ...       ...      ...      ...   \n",
       "300256  13-08-2023   Vistara     UK-822  business  Chennai    09:45   \n",
       "300257  13-08-2023   Vistara     UK-826  business  Chennai    12:30   \n",
       "300258  13-08-2023   Vistara     UK-832  business  Chennai    07:05   \n",
       "300259  13-08-2023   Vistara     UK-828  business  Chennai    07:00   \n",
       "300260  13-08-2023   Vistara     UK-822  business  Chennai    09:45   \n",
       "\n",
       "               to arr_time duration   price     stops  \n",
       "0          Mumbai    21:05  02h 10m   6,013  non-stop  \n",
       "1          Mumbai    08:40  02h 20m   6,013  non-stop  \n",
       "2          Mumbai    06:35  02h 10m   6,016  non-stop  \n",
       "3          Mumbai    12:35  02h 15m   6,015  non-stop  \n",
       "4          Mumbai    11:10  02h 20m   6,015  non-stop  \n",
       "...           ...      ...      ...     ...       ...  \n",
       "300256  Hyderabad    19:50  10h 05m  70,304    1-stop  \n",
       "300257  Hyderabad    22:55  10h 25m  78,262    1-stop  \n",
       "300258  Hyderabad    20:55  13h 50m  80,285    1-stop  \n",
       "300259  Hyderabad    17:00  10h 00m  82,809    1-stop  \n",
       "300260  Hyderabad    19:50  10h 05m  82,809    1-stop  \n",
       "\n",
       "[300261 rows x 11 columns]"
      ]
     },
     "execution_count": 5,
     "metadata": {},
     "output_type": "execute_result"
    }
   ],
   "source": [
    "def drop_column(df, column_names):\n",
    "    \"\"\"\n",
    "    Drop specified columns from a dataframe if they exist.\n",
    "\n",
    "    Args:\n",
    "        df (DataFrame): The input dataframe.\n",
    "        column_names (list): A list of column names to drop.\n",
    "\n",
    "    Returns:\n",
    "        DataFrame: The dataframe after dropping specified columns.\n",
    "    \"\"\"\n",
    "    for column_name in column_names:\n",
    "        if column_name in df.columns:\n",
    "            df = df.drop(columns=[column_name])\n",
    "            print(f\"Column: {column_name} dropped successfully.\")\n",
    "        else:\n",
    "            print(f\"Column: {column_name} not found.\")\n",
    "    return df\n",
    "\n",
    "# Call the function\n",
    "df = drop_column(df, ['Unnamed: 11', 'Unnamed: 12'])\n",
    "df\n"
   ]
  },
  {
   "cell_type": "code",
   "execution_count": 6,
   "metadata": {},
   "outputs": [
    {
     "data": {
      "text/plain": [
       "Index(['flight date', 'airline', 'flight_num', 'class', 'from', 'dep_time',\n",
       "       'to', 'arr_time', 'duration', 'price', 'stops'],\n",
       "      dtype='object')"
      ]
     },
     "execution_count": 6,
     "metadata": {},
     "output_type": "execute_result"
    }
   ],
   "source": [
    "df.columns"
   ]
  },
  {
   "cell_type": "code",
   "execution_count": 7,
   "metadata": {},
   "outputs": [
    {
     "data": {
      "text/plain": [
       "flight date    0\n",
       "airline        0\n",
       "flight_num     0\n",
       "class          0\n",
       "from           0\n",
       "dep_time       0\n",
       "to             0\n",
       "arr_time       0\n",
       "duration       0\n",
       "price          0\n",
       "stops          0\n",
       "dtype: int64"
      ]
     },
     "execution_count": 7,
     "metadata": {},
     "output_type": "execute_result"
    }
   ],
   "source": [
    "df.isnull().sum()"
   ]
  },
  {
   "cell_type": "code",
   "execution_count": 8,
   "metadata": {},
   "outputs": [],
   "source": [
    "# Step 2: Convert 'flight date' to datetime format and extract features\n",
    "df.rename(columns={\"flight date\": \"Flight_Date\"}, inplace=True)\n",
    "df[\"Flight_Date\"] = pd.to_datetime(df[\"Flight_Date\"], format=\"%d-%m-%Y\")"
   ]
  },
  {
   "cell_type": "code",
   "execution_count": 9,
   "metadata": {},
   "outputs": [],
   "source": [
    "# Extract date, month, and year\n",
    "df[\"Date\"] = df[\"Flight_Date\"].dt.day\n",
    "df[\"Month\"] = df[\"Flight_Date\"].dt.month\n",
    "df[\"Year\"] = df[\"Flight_Date\"].dt.year"
   ]
  },
  {
   "cell_type": "code",
   "execution_count": 10,
   "metadata": {},
   "outputs": [],
   "source": [
    "# Step 3: Convert price column to numeric format if necessary\n",
    "if df[\"price\"].dtype == \"object\":\n",
    "    df[\"price\"] = df[\"price\"].str.replace(\",\", \"\").astype(int)"
   ]
  },
  {
   "cell_type": "code",
   "execution_count": 11,
   "metadata": {},
   "outputs": [],
   "source": [
    "# Step 4: Clean and convert 'duration' to total minutes\n",
    "def clean_duration(duration):\n",
    "    match = re.search(r\"(\\d{1,2})\\.?\\d{0,2}?h?\\s?(\\d{1,2})?m?\", duration)\n",
    "    if match:\n",
    "        h = int(match.group(1)) if match.group(1) else 0\n",
    "        m = int(match.group(2)) if match.group(2) else 0\n",
    "        return h * 60 + m\n",
    "    return None  # Return None if format is invalid\n",
    "\n",
    "if \"duration\" in df.columns:\n",
    "    df[\"duration_minutes\"] = df[\"duration\"].apply(clean_duration)\n",
    "    df.drop(columns=[\"duration\"], inplace=True)"
   ]
  },
  {
   "cell_type": "code",
   "execution_count": 12,
   "metadata": {},
   "outputs": [
    {
     "name": "stderr",
     "output_type": "stream",
     "text": [
      "C:\\Users\\chava\\AppData\\Local\\Temp\\ipykernel_3520\\634987552.py:15: FutureWarning: Downcasting behavior in `replace` is deprecated and will be removed in a future version. To retain the old behavior, explicitly call `result.infer_objects(copy=False)`. To opt-in to the future behavior, set `pd.set_option('future.no_silent_downcasting', True)`\n",
      "  df[\"stops\"] = df[\"stops\"].replace({\"non-stop\": 0, \"1-stop\": 1, \"2+-stop\": 2}).fillna(1).astype(int)\n"
     ]
    }
   ],
   "source": [
    "# Step 5: Convert 'stops' to numerical format\n",
    "import pandas as pd\n",
    "import re\n",
    "\n",
    "# Function to clean the 'stops' column\n",
    "def clean_stops(value):\n",
    "    value = str(value).strip()  # Remove leading/trailing spaces\n",
    "    value = re.sub(r\"\\s*Via.*\", \"\", value)  # Remove 'Via' and extra text\n",
    "    return value\n",
    "\n",
    "# Apply cleaning function\n",
    "df[\"stops\"] = df[\"stops\"].apply(clean_stops)\n",
    "\n",
    "# Convert 'stops' to numerical format\n",
    "df[\"stops\"] = df[\"stops\"].replace({\"non-stop\": 0, \"1-stop\": 1, \"2+-stop\": 2}).fillna(1).astype(int)\n",
    "\n"
   ]
  },
  {
   "cell_type": "code",
   "execution_count": 13,
   "metadata": {},
   "outputs": [],
   "source": [
    "# Dictionary mapping old column names to new ones\n",
    "column_mapping = {\n",
    "    'flight date': 'Flight_Date',\n",
    "    'airline': 'Airline_Name',\n",
    "    'flight_num': 'Flight_Number',\n",
    "    'class': 'Travel_Class',\n",
    "    'from': 'Origin_City',\n",
    "    'dep_time': 'Departure_Time',\n",
    "    'to': 'Destination_City',\n",
    "    'arr_time': 'Arrival_Time',\n",
    "    'duration': 'Flight_Duration',\n",
    "    'price': 'Ticket_Price',\n",
    "    'stops': 'Num_Stops',\n",
    "    'flight date_day': 'Date_Day',\n",
    "    'flight date_month': 'Date_Month',\n",
    "    'flight date_quarter': 'Date_Quarter',\n",
    "    'flight date_year': 'Date_Year',\n",
    "    'departure_hour': 'Departure_Hour'\n",
    "}\n",
    "\n",
    "# Renaming columns\n",
    "df = df.rename(columns=column_mapping)\n"
   ]
  },
  {
   "cell_type": "code",
   "execution_count": 14,
   "metadata": {},
   "outputs": [
    {
     "data": {
      "text/plain": [
       "Index(['Flight_Date', 'Airline_Name', 'Flight_Number', 'Travel_Class',\n",
       "       'Origin_City', 'Departure_Time', 'Destination_City', 'Arrival_Time',\n",
       "       'Ticket_Price', 'Num_Stops', 'Date', 'Month', 'Year',\n",
       "       'duration_minutes'],\n",
       "      dtype='object')"
      ]
     },
     "execution_count": 14,
     "metadata": {},
     "output_type": "execute_result"
    }
   ],
   "source": [
    "df.columns"
   ]
  },
  {
   "cell_type": "code",
   "execution_count": 15,
   "metadata": {},
   "outputs": [
    {
     "data": {
      "text/plain": [
       "Flight_Date         datetime64[ns]\n",
       "Airline_Name                object\n",
       "Flight_Number               object\n",
       "Travel_Class                object\n",
       "Origin_City                 object\n",
       "Departure_Time              object\n",
       "Destination_City            object\n",
       "Arrival_Time                object\n",
       "Ticket_Price                 int64\n",
       "Num_Stops                    int64\n",
       "Date                         int32\n",
       "Month                        int32\n",
       "Year                         int32\n",
       "duration_minutes             int64\n",
       "dtype: object"
      ]
     },
     "execution_count": 15,
     "metadata": {},
     "output_type": "execute_result"
    }
   ],
   "source": [
    "df.dtypes"
   ]
  },
  {
   "cell_type": "code",
   "execution_count": 16,
   "metadata": {},
   "outputs": [],
   "source": [
    "# Ensure 'flight_date' is in datetime format\n",
    "df['Flight_Date'] = pd.to_datetime(df['Flight_Date'], errors='coerce')\n",
    "\n",
    "# Create 'departure_hour' for analysis\n",
    "df['Departure_Hour'] = pd.to_datetime(df['Departure_Time'], format='%H:%M', errors='coerce').dt.hour"
   ]
  },
  {
   "cell_type": "code",
   "execution_count": 17,
   "metadata": {},
   "outputs": [
    {
     "data": {
      "text/plain": [
       "Flight_Date         datetime64[ns]\n",
       "Airline_Name                object\n",
       "Flight_Number               object\n",
       "Travel_Class                object\n",
       "Origin_City                 object\n",
       "Departure_Time              object\n",
       "Destination_City            object\n",
       "Arrival_Time                object\n",
       "Ticket_Price                 int64\n",
       "Num_Stops                    int64\n",
       "Date                         int32\n",
       "Month                        int32\n",
       "Year                         int32\n",
       "duration_minutes             int64\n",
       "Departure_Hour               int32\n",
       "dtype: object"
      ]
     },
     "execution_count": 17,
     "metadata": {},
     "output_type": "execute_result"
    }
   ],
   "source": [
    "df.dtypes"
   ]
  },
  {
   "cell_type": "code",
   "execution_count": 18,
   "metadata": {},
   "outputs": [
    {
     "name": "stdout",
     "output_type": "stream",
     "text": [
      "Cleaned DataFrame successfully saved as: Flight_Price_Cleaned_Preprocessing \n"
     ]
    }
   ],
   "source": [
    "def save_clean_csv(df,file_name):\n",
    "    \"\"\"\n",
    "    Save the cleaned DataFrame to a CSV file.\n",
    "\n",
    "    Args:\n",
    "        df (DataFrame): The cleaned DataFrame to save.\n",
    "        file_name (str): The name of the CSV file to save.\n",
    "\n",
    "    Returns:\n",
    "        None\n",
    "    \"\"\"\n",
    "    try:\n",
    "         #Save Dataframe to a CSV file\n",
    "         df.to_csv(file_name, index=False)\n",
    "         print(f\"Cleaned DataFrame successfully saved as: {\"Flight_Price_Cleaned_Preprocessing\"} \")\n",
    "    except Exception as e:\n",
    "        print(f\"An error occurred while saving the file: {'e'}\")\n",
    "\n",
    "save_clean_csv(df, \"Flight_Price_cleaned_data_3.csv\")"
   ]
  },
  {
   "cell_type": "code",
   "execution_count": 3,
   "metadata": {},
   "outputs": [
    {
     "data": {
      "text/plain": [
       "Index(['Flight_Date', 'Airline_Name', 'Flight_Number', 'Travel_Class',\n",
       "       'Origin_City', 'Departure_Time', 'Destination_City', 'Arrival_Time',\n",
       "       'Ticket_Price', 'Num_Stops', 'Date', 'Month', 'Year',\n",
       "       'duration_minutes', 'Departure_Hour'],\n",
       "      dtype='object')"
      ]
     },
     "execution_count": 3,
     "metadata": {},
     "output_type": "execute_result"
    }
   ],
   "source": [
    "df2 = pd.read_csv(r\"C:\\Users\\chava\\OneDrive\\Desktop\\Behavioral_Data_Analyst\\Flight_Price_cleaned_data_3.csv\")\n",
    "df2.columns\n"
   ]
  },
  {
   "cell_type": "code",
   "execution_count": 20,
   "metadata": {},
   "outputs": [],
   "source": [
    "df2['duration_minutes']=df2.rename(columns={'duration_minutes': 'Duration_Minutes'}, inplace=True)"
   ]
  },
  {
   "cell_type": "code",
   "execution_count": 7,
   "metadata": {},
   "outputs": [
    {
     "data": {
      "text/plain": [
       "array(['Mumbai', 'Bangalore', 'Kolkata', 'Hyderabad', 'Chennai', 'Delhi'],\n",
       "      dtype=object)"
      ]
     },
     "execution_count": 7,
     "metadata": {},
     "output_type": "execute_result"
    }
   ],
   "source": [
    "df2['Destination_City'].unique()"
   ]
  },
  {
   "cell_type": "code",
   "execution_count": 8,
   "metadata": {},
   "outputs": [
    {
     "data": {
      "text/plain": [
       "Index(['Flight_Date', 'Airline_Name', 'Flight_Number', 'Travel_Class',\n",
       "       'Origin_City', 'Departure_Time', 'Destination_City', 'Arrival_Time',\n",
       "       'Ticket_Price', 'Num_Stops', 'Date', 'Month', 'Year',\n",
       "       'duration_minutes', 'Departure_Hour'],\n",
       "      dtype='object')"
      ]
     },
     "execution_count": 8,
     "metadata": {},
     "output_type": "execute_result"
    }
   ],
   "source": [
    "df2.columns\n"
   ]
  },
  {
   "cell_type": "code",
   "execution_count": 10,
   "metadata": {},
   "outputs": [],
   "source": [
    "# Select features (independent variables)\n",
    "Features = [\"Airline_Name\", \"Origin_City\", \"Destination_City\", \"Num_Stops\", \"Travel_Class\",\"Date\", \"Month\",\"Year\", \"duration_minutes\"]\n",
    "Target = \"Ticket_Price\"  # Dependent variable"
   ]
  },
  {
   "cell_type": "code",
   "execution_count": 11,
   "metadata": {},
   "outputs": [
    {
     "name": "stdout",
     "output_type": "stream",
     "text": [
      "File saved successfully!\n"
     ]
    }
   ],
   "source": [
    "with open(\"Features_Data_2.pkl\", \"wb\") as file:\n",
    "    pickle.dump(Features, file)\n",
    "\n",
    "print(\"File saved successfully!\")"
   ]
  },
  {
   "cell_type": "code",
   "execution_count": 24,
   "metadata": {},
   "outputs": [],
   "source": [
    "# One-Hot Encoding for categorical variables\n",
    "df_encoding = pd.get_dummies(df2[Features], drop_first=True)"
   ]
  },
  {
   "cell_type": "code",
   "execution_count": 25,
   "metadata": {},
   "outputs": [],
   "source": [
    "# Train-Test Split\n",
    "X_train, X_test, y_train, y_test = train_test_split(df_encoding, df2[Target], test_size=0.2, random_state=42)\n"
   ]
  }
 ],
 "metadata": {
  "kernelspec": {
   "display_name": "Python 3",
   "language": "python",
   "name": "python3"
  },
  "language_info": {
   "codemirror_mode": {
    "name": "ipython",
    "version": 3
   },
   "file_extension": ".py",
   "mimetype": "text/x-python",
   "name": "python",
   "nbconvert_exporter": "python",
   "pygments_lexer": "ipython3",
   "version": "3.13.0"
  }
 },
 "nbformat": 4,
 "nbformat_minor": 2
}
